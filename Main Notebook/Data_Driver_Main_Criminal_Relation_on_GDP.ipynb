{
 "cells": [
  {
   "cell_type": "code",
   "execution_count": 2,
   "metadata": {
    "id": "4vHDUpF92M28",
    "tags": []
   },
   "outputs": [
    {
     "name": "stdout",
     "output_type": "stream",
     "text": [
      "Collecting pandas\n",
      "  Downloading pandas-1.5.3-cp311-cp311-win_amd64.whl (10.3 MB)\n",
      "     --------------------------------------- 10.3/10.3 MB 21.8 MB/s eta 0:00:00\n",
      "Requirement already satisfied: python-dateutil>=2.8.1 in c:\\users\\andyj\\appdata\\local\\programs\\python\\python311\\lib\\site-packages (from pandas) (2.8.2)\n",
      "Collecting pytz>=2020.1\n",
      "  Using cached pytz-2022.7.1-py2.py3-none-any.whl (499 kB)\n",
      "Collecting numpy>=1.21.0\n",
      "  Downloading numpy-1.24.2-cp311-cp311-win_amd64.whl (14.8 MB)\n",
      "     --------------------------------------- 14.8/14.8 MB 32.8 MB/s eta 0:00:00\n",
      "Requirement already satisfied: six>=1.5 in c:\\users\\andyj\\appdata\\local\\programs\\python\\python311\\lib\\site-packages (from python-dateutil>=2.8.1->pandas) (1.16.0)\n",
      "Installing collected packages: pytz, numpy, pandas\n",
      "Successfully installed numpy-1.24.2 pandas-1.5.3 pytz-2022.7.1\n"
     ]
    },
    {
     "name": "stderr",
     "output_type": "stream",
     "text": [
      "\n",
      "[notice] A new release of pip available: 22.3.1 -> 23.0.1\n",
      "[notice] To update, run: python.exe -m pip install --upgrade pip\n"
     ]
    },
    {
     "name": "stdout",
     "output_type": "stream",
     "text": [
      "Requirement already satisfied: numpy in c:\\users\\andyj\\appdata\\local\\programs\\python\\python311\\lib\\site-packages (1.24.2)\n"
     ]
    },
    {
     "name": "stderr",
     "output_type": "stream",
     "text": [
      "\n",
      "[notice] A new release of pip available: 22.3.1 -> 23.0.1\n",
      "[notice] To update, run: python.exe -m pip install --upgrade pip\n"
     ]
    },
    {
     "name": "stdout",
     "output_type": "stream",
     "text": [
      "Collecting matplotlib\n",
      "  Downloading matplotlib-3.7.1-cp311-cp311-win_amd64.whl (7.6 MB)\n",
      "     ---------------------------------------- 7.6/7.6 MB 19.5 MB/s eta 0:00:00\n",
      "Collecting contourpy>=1.0.1\n",
      "  Downloading contourpy-1.0.7-cp311-cp311-win_amd64.whl (162 kB)\n",
      "     ---------------------------------------- 163.0/163.0 kB ? eta 0:00:00\n",
      "Collecting cycler>=0.10\n",
      "  Using cached cycler-0.11.0-py3-none-any.whl (6.4 kB)\n",
      "Collecting fonttools>=4.22.0\n",
      "  Downloading fonttools-4.39.0-py3-none-any.whl (1.0 MB)\n",
      "     ---------------------------------------- 1.0/1.0 MB 21.1 MB/s eta 0:00:00\n",
      "Collecting kiwisolver>=1.0.1\n",
      "  Downloading kiwisolver-1.4.4-cp311-cp311-win_amd64.whl (55 kB)\n",
      "     ---------------------------------------- 55.4/55.4 kB ? eta 0:00:00\n",
      "Requirement already satisfied: numpy>=1.20 in c:\\users\\andyj\\appdata\\local\\programs\\python\\python311\\lib\\site-packages (from matplotlib) (1.24.2)\n",
      "Requirement already satisfied: packaging>=20.0 in c:\\users\\andyj\\appdata\\local\\programs\\python\\python311\\lib\\site-packages (from matplotlib) (23.0)\n",
      "Collecting pillow>=6.2.0\n",
      "  Downloading Pillow-9.4.0-cp311-cp311-win_amd64.whl (2.5 MB)\n",
      "     ---------------------------------------- 2.5/2.5 MB 26.2 MB/s eta 0:00:00\n",
      "Collecting pyparsing>=2.3.1\n",
      "  Using cached pyparsing-3.0.9-py3-none-any.whl (98 kB)\n",
      "Requirement already satisfied: python-dateutil>=2.7 in c:\\users\\andyj\\appdata\\local\\programs\\python\\python311\\lib\\site-packages (from matplotlib) (2.8.2)\n",
      "Requirement already satisfied: six>=1.5 in c:\\users\\andyj\\appdata\\local\\programs\\python\\python311\\lib\\site-packages (from python-dateutil>=2.7->matplotlib) (1.16.0)\n",
      "Installing collected packages: pyparsing, pillow, kiwisolver, fonttools, cycler, contourpy, matplotlib\n",
      "Successfully installed contourpy-1.0.7 cycler-0.11.0 fonttools-4.39.0 kiwisolver-1.4.4 matplotlib-3.7.1 pillow-9.4.0 pyparsing-3.0.9\n"
     ]
    },
    {
     "name": "stderr",
     "output_type": "stream",
     "text": [
      "\n",
      "[notice] A new release of pip available: 22.3.1 -> 23.0.1\n",
      "[notice] To update, run: python.exe -m pip install --upgrade pip\n"
     ]
    }
   ],
   "source": [
    "!pip install pandas\n",
    "!pip install numpy\n",
    "!pip install matplotlib"
   ]
  },
  {
   "cell_type": "code",
   "execution_count": 5,
   "metadata": {
    "id": "DmTH9pFj2aFI",
    "tags": []
   },
   "outputs": [],
   "source": [
    "import pandas as pd\n",
    "import numpy as np\n",
    "import math\n",
    "import matplotlib.pyplot as plt\n",
    "import io, time, json\n",
    "import requests\n",
    "from bs4 import BeautifulSoup"
   ]
  },
  {
   "cell_type": "code",
   "execution_count": 14,
   "metadata": {
    "tags": []
   },
   "outputs": [],
   "source": [
    "def describe(df):\n",
    "    print('\\n*** First 5 rows')\n",
    "    print(df.head())\n",
    "    print('\\n*** Size and data type')\n",
    "    print(f'Size: {df.size}')\n",
    "    print(df.dtypes)\n",
    "    print('\\n*** NaN count each column')\n",
    "    print(df.isna().sum())\n",
    "    print('\\n*** Value count each column')\n",
    "    for col in df:\n",
    "        print('**************************')\n",
    "        print(df[col].value_counts())"
   ]
  },
  {
   "cell_type": "code",
   "execution_count": 15,
   "metadata": {
    "tags": []
   },
   "outputs": [
    {
     "name": "stdout",
     "output_type": "stream",
     "text": [
      "\n",
      "*** First 5 rows\n",
      "         ID         Primary Type                              Description  \\\n",
      "0  12014684                THEFT                           $500 AND UNDER   \n",
      "1  11864018   DECEPTIVE PRACTICE  FINANCIAL IDENTITY THEFT $300 AND UNDER   \n",
      "2  11859805                THEFT                             RETAIL THEFT   \n",
      "3  12012127  MOTOR VEHICLE THEFT                               AUTOMOBILE   \n",
      "4  11863808                THEFT                                OVER $500   \n",
      "\n",
      "           Location Description  Domestic  Year                    Date  \n",
      "0                        STREET     False  2020  03/17/2020 09:30:00 PM  \n",
      "1  COMMERCIAL / BUSINESS OFFICE     False  2019  09/24/2019 08:00:00 AM  \n",
      "2            GROCERY FOOD STORE     False  2019  10/13/2019 08:30:00 PM  \n",
      "3                     APARTMENT      True  2020  03/18/2020 02:03:00 AM  \n",
      "4                     RESIDENCE     False  2019  10/05/2019 06:30:00 PM  \n",
      "\n",
      "*** Size and data type\n",
      "Size: 6704054\n",
      "ID                       int64\n",
      "Primary Type            object\n",
      "Description             object\n",
      "Location Description    object\n",
      "Domestic                  bool\n",
      "Year                     int64\n",
      "Date                    object\n",
      "dtype: object\n",
      "\n",
      "*** NaN count each column\n",
      "ID                         0\n",
      "Primary Type               0\n",
      "Description                0\n",
      "Location Description    4311\n",
      "Domestic                   0\n",
      "Year                       0\n",
      "Date                       0\n",
      "dtype: int64\n",
      "\n",
      "*** Value count each column\n",
      "**************************\n",
      "12014684    1\n",
      "12500963    1\n",
      "12500311    1\n",
      "12500796    1\n",
      "12500333    1\n",
      "           ..\n",
      "12057367    1\n",
      "12253805    1\n",
      "12056688    1\n",
      "12154276    1\n",
      "12935341    1\n",
      "Name: ID, Length: 957722, dtype: int64\n",
      "**************************\n",
      "THEFT                                207181\n",
      "BATTERY                              178583\n",
      "CRIMINAL DAMAGE                      108234\n",
      "ASSAULT                               83197\n",
      "DECEPTIVE PRACTICE                    72471\n",
      "OTHER OFFENSE                         60216\n",
      "MOTOR VEHICLE THEFT                   55944\n",
      "ROBBERY                               34239\n",
      "BURGLARY                              33873\n",
      "WEAPONS VIOLATION                     33871\n",
      "NARCOTICS                             33016\n",
      "CRIMINAL TRESPASS                     19396\n",
      "OFFENSE INVOLVING CHILDREN             8487\n",
      "CRIMINAL SEXUAL ASSAULT                5161\n",
      "SEX OFFENSE                            4775\n",
      "PUBLIC PEACE VIOLATION                 4216\n",
      "INTERFERENCE WITH PUBLIC OFFICER       2994\n",
      "HOMICIDE                               2915\n",
      "ARSON                                  1992\n",
      "PROSTITUTION                           1415\n",
      "STALKING                               1307\n",
      "CRIM SEXUAL ASSAULT                     987\n",
      "LIQUOR LAW VIOLATION                    789\n",
      "CONCEALED CARRY LICENSE VIOLATION       750\n",
      "INTIMIDATION                            672\n",
      "KIDNAPPING                              515\n",
      "OBSCENITY                               218\n",
      "GAMBLING                                190\n",
      "HUMAN TRAFFICKING                        48\n",
      "PUBLIC INDECENCY                         30\n",
      "OTHER NARCOTIC VIOLATION                 25\n",
      "NON-CRIMINAL                             14\n",
      "RITUALISM                                 1\n",
      "Name: Primary Type, dtype: int64\n",
      "**************************\n",
      "SIMPLE                                              109501\n",
      "DOMESTIC BATTERY SIMPLE                              85502\n",
      "$500 AND UNDER                                       78249\n",
      "OVER $500                                            61269\n",
      "TO VEHICLE                                           53862\n",
      "                                                     ...  \n",
      "FOID - REVOCATION                                        1\n",
      "ATTEMPT STRONG ARM: NO WEAPON                            1\n",
      "ATTEMPT ARMED: HANDGUN                                   1\n",
      "POSS: LOOK-ALIKE DRUGS                                   1\n",
      "DELIVER CONTROLLED SUBSTANCES TO PERSON UNDER 18         1\n",
      "Name: Description, Length: 466, dtype: int64\n",
      "**************************\n",
      "STREET                238233\n",
      "APARTMENT             168408\n",
      "RESIDENCE             149248\n",
      "SIDEWALK               59381\n",
      "SMALL RETAIL STORE     26019\n",
      "                       ...  \n",
      "TRAILER                    1\n",
      "CHA HALLWAY                1\n",
      "HORSE STABLE               1\n",
      "ELEVATOR                   1\n",
      "CHA ELEVATOR               1\n",
      "Name: Location Description, Length: 184, dtype: int64\n",
      "**************************\n",
      "False    780456\n",
      "True     177266\n",
      "Name: Domestic, dtype: int64\n",
      "**************************\n",
      "2019    261213\n",
      "2022    237221\n",
      "2020    212042\n",
      "2021    208445\n",
      "2023     38801\n",
      "Name: Year, dtype: int64\n",
      "**************************\n",
      "01/01/2021 12:00:00 AM    119\n",
      "01/01/2019 12:00:00 AM    109\n",
      "01/01/2022 12:00:00 AM     99\n",
      "01/01/2020 12:00:00 AM     98\n",
      "08/01/2022 12:00:00 AM     90\n",
      "                         ... \n",
      "09/13/2020 10:57:00 PM      1\n",
      "09/13/2020 03:15:00 PM      1\n",
      "09/13/2020 02:13:00 AM      1\n",
      "09/13/2020 12:41:00 PM      1\n",
      "12/20/2022 06:45:00 AM      1\n",
      "Name: Date, Length: 473043, dtype: int64\n"
     ]
    }
   ],
   "source": [
    "df = pd.read_csv('crime_reduced.csv')\n",
    "describe(df)"
   ]
  },
  {
   "cell_type": "code",
   "execution_count": null,
   "metadata": {},
   "outputs": [],
   "source": [
    "# column Location Description has very few row with NaN value\n",
    "# we can drop that\n",
    "df1 = df[~df['Location Description'].isna()]\n",
    "describe(df1)"
   ]
  }
 ],
 "metadata": {
  "colab": {
   "provenance": []
  },
  "kernelspec": {
   "display_name": "Python 3 (ipykernel)",
   "language": "python",
   "name": "python3"
  },
  "language_info": {
   "codemirror_mode": {
    "name": "ipython",
    "version": 3
   },
   "file_extension": ".py",
   "mimetype": "text/x-python",
   "name": "python",
   "nbconvert_exporter": "python",
   "pygments_lexer": "ipython3",
   "version": "3.11.2"
  }
 },
 "nbformat": 4,
 "nbformat_minor": 4
}
